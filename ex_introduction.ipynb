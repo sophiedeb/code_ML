{
 "cells": [
  {
   "cell_type": "code",
   "execution_count": 1,
   "metadata": {},
   "outputs": [
    {
     "name": "stderr",
     "output_type": "stream",
     "text": [
      "\n",
      "Bad key \"text.kerning_factor\" on line 4 in\n",
      "/Users/sdebuyl/.conda/envs/vub_37/lib/python3.7/site-packages/matplotlib/mpl-data/stylelib/_classic_test_patch.mplstyle.\n",
      "You probably need to get an updated matplotlibrc file from\n",
      "https://github.com/matplotlib/matplotlib/blob/v3.1.2/matplotlibrc.template\n",
      "or from the matplotlib source distribution\n"
     ]
    }
   ],
   "source": [
    "import numpy as np\n",
    "import matplotlib.pyplot as plt\n",
    "import pandas as pd\n",
    "import seaborn as sns"
   ]
  },
  {
   "cell_type": "markdown",
   "metadata": {},
   "source": [
    "We will analyze a dataset containing bacterial relative abundance from the gut of 33 individus. \n",
    "\n",
    "We first import the dataset (it is usually a time consumming step, it depends on the type of file the experimental data has been saved in and you should know how the information is organized): "
   ]
  },
  {
   "cell_type": "code",
   "execution_count": 2,
   "metadata": {},
   "outputs": [
    {
     "name": "stdout",
     "output_type": "stream",
     "text": [
      "dataset shape  (33, 248)\n"
     ]
    }
   ],
   "source": [
    "matrixX = np.genfromtxt('./data/MetaHIT_SangerSamplesgenus.txt')[:,1:].T\n",
    "bacteria_names = np.genfromtxt('./data/MetaHIT_SangerSamplesgenus.txt',dtype=str)[:,0]\n",
    "samples_names=['AM-F10-T1','AM-F10-T2','DA-AD-1','DA-AD-2','DA-AD-3','DA-AD-4','ES-AD-1','ES-AD-2','ES-AD-3','ES-AD-4','FR-AD-1','FR-AD-2','FR-AD-3','FR-AD-4','FR-AD-5','FR-AD-6','FR-AD-7','FR-AD-8','IT-AD-1','IT-AD-2','IT-AD-3','IT-AD-4','IT-AD-5','IT-AD-6','JP-AD-1','JP-AD-2','JP-AD-3','JP-AD-4','JP-AD-5','JP-AD-6','JP-AD-7','JP-AD-8','JP-AD-9']\n",
    "print('dataset shape ',matrixX.shape)"
   ]
  },
  {
   "cell_type": "code",
   "execution_count": 3,
   "metadata": {},
   "outputs": [],
   "source": [
    "# pd.read_csv('./data/MetaHIT_SangerSamplesgenus.txt',delimiter=\"\\t\").iloc[1:,1:].to_numpy()"
   ]
  },
  {
   "cell_type": "markdown",
   "metadata": {},
   "source": [
    "To do plots very easily, we will use the popular \"panda\" package. We need to put our dataset into a panda dataframe to be able to use the plotting functions of panda. "
   ]
  },
  {
   "cell_type": "code",
   "execution_count": 6,
   "metadata": {},
   "outputs": [],
   "source": [
    "# build a pandas dataframe - it will then be very easy to plot the data, we need to give the actual data matrix,\n",
    "# the names of the lines (called 'index') and the names of the columns\n",
    "df = pd.DataFrame(data=matrixX,index=samples_names,columns=bacteria_names)\n",
    "\n",
    "dfmin = df.iloc[0:10,0:10]"
   ]
  },
  {
   "cell_type": "markdown",
   "metadata": {},
   "source": [
    "# 0. Playing with arrays"
   ]
  },
  {
   "cell_type": "code",
   "execution_count": 7,
   "metadata": {},
   "outputs": [
    {
     "name": "stdout",
     "output_type": "stream",
     "text": [
      "my linearly spaced array is  [1.         1.44444444 1.88888889 2.33333333 2.77777778 3.22222222\n",
      " 3.66666667 4.11111111 4.55555556 5.        ]\n",
      "my random array is  [0.16600398 0.66338821 0.58377589 0.93045012 0.90684114 0.02213249\n",
      " 0.01344353 0.71396154 0.61973693 0.02078794]\n",
      "my ordered random array is  [0.93045012 0.90684114 0.71396154 0.66338821 0.61973693 0.58377589\n",
      " 0.16600398 0.02213249 0.02078794 0.01344353]\n"
     ]
    }
   ],
   "source": [
    "my_ones = np.ones(5)\n",
    "my_zeros = np.zeros(6)\n",
    "an_array = np.array([2,3.3,-2.4])\n",
    "my_start = 1.0\n",
    "my_stop = 5.0\n",
    "number_of_steps = 10\n",
    "linearly_spaced_array = np.linspace(my_start,my_stop,number_of_steps)\n",
    "print('my linearly spaced array is ',linearly_spaced_array)\n",
    "a_random_array = np.random.rand(10)\n",
    "print('my random array is ',a_random_array)\n",
    "myorder = np.argsort(a_random_array)[::-1] #argsort gives the indices to sort from small to big, [::-1] is used to reverse the array\n",
    "a_random_array_sorted = a_random_array[myorder]\n",
    "\n",
    "print('my ordered random array is ',a_random_array_sorted)\n"
   ]
  },
  {
   "cell_type": "markdown",
   "metadata": {},
   "source": [
    "(a) print the 2nd element of the array \"a_random_array_sorted\"\n",
    "\n",
    "(b) define a new array which is composed of the 3 first entries of \"a_random_array_sorted\"\n",
    "\n",
    "(c) print the lenght of \"a_random_array_sorted\""
   ]
  },
  {
   "cell_type": "code",
   "execution_count": 8,
   "metadata": {},
   "outputs": [
    {
     "data": {
      "text/plain": [
       "(248,)"
      ]
     },
     "execution_count": 8,
     "metadata": {},
     "output_type": "execute_result"
    }
   ],
   "source": [
    "means = np.mean(matrixX,axis=0)\n",
    "means.shape"
   ]
  },
  {
   "cell_type": "markdown",
   "metadata": {},
   "source": [
    "# 1. Mean, variances & bar plot"
   ]
  },
  {
   "cell_type": "markdown",
   "metadata": {},
   "source": [
    "1. compute the mean values and variances of each bacterial species -- use np.mean( ..., axis= ) and np.std(..., axis = ) then use \"argsort\" to sort bacteria per mean abundance (from most abundant to least abundant). "
   ]
  },
  {
   "cell_type": "code",
   "execution_count": 92,
   "metadata": {},
   "outputs": [],
   "source": []
  },
  {
   "cell_type": "code",
   "execution_count": 93,
   "metadata": {},
   "outputs": [],
   "source": []
  },
  {
   "cell_type": "markdown",
   "metadata": {},
   "source": [
    "2. do a bar plot (use sns.barplot(data = your_dataframe)) + add at title  + rem: if ticks are on top of each other, you can use plt.figure(figsize=(10,4)) and play around with the size of figure to make it big enough. "
   ]
  },
  {
   "cell_type": "code",
   "execution_count": 16,
   "metadata": {},
   "outputs": [],
   "source": [
    "myorder = np.argsort(means)[::-1] #argsort gives the indices to sort from small to big, [::-1] is used to reverse the array\n",
    "df_sort= df.iloc[:,myorder[0:4]]"
   ]
  },
  {
   "cell_type": "markdown",
   "metadata": {},
   "source": [
    "# 2. Median, quartiles, box and violin plots"
   ]
  },
  {
   "cell_type": "markdown",
   "metadata": {},
   "source": [
    "do a box plot (use sns.boxplot(data=your_dataframe))"
   ]
  },
  {
   "cell_type": "code",
   "execution_count": 17,
   "metadata": {},
   "outputs": [
    {
     "data": {
      "text/plain": [
       "<matplotlib.axes._subplots.AxesSubplot at 0x1a1dcb6e48>"
      ]
     },
     "execution_count": 17,
     "metadata": {},
     "output_type": "execute_result"
    },
    {
     "data": {
      "image/png": "[encoded data removed]",
      "text/plain": [
       "<Figure size 432x288 with 1 Axes>"
      ]
     },
     "metadata": {
      "needs_background": "light"
     },
     "output_type": "display_data"
    }
   ],
   "source": [
    "sns.boxplot(data=df_sort)"
   ]
  },
  {
   "cell_type": "markdown",
   "metadata": {},
   "source": [
    "do a violin plot (use... sns.violin(data=my_dataframe))"
   ]
  },
  {
   "cell_type": "code",
   "execution_count": null,
   "metadata": {},
   "outputs": [],
   "source": []
  },
  {
   "cell_type": "markdown",
   "metadata": {},
   "source": [
    "# 3. Heatmaps"
   ]
  },
  {
   "cell_type": "markdown",
   "metadata": {},
   "source": [
    "do a heatmap of the dataset (use sns.heatmap(data=my_dataframe) \n",
    "\n",
    "rem: \n",
    "\n",
    "(a) you can change color scheme by adding an option, ie cmap='Blues') \n",
    "\n",
    "(b) try to represent a subset of the full dataset. \n",
    "\n"
   ]
  },
  {
   "cell_type": "code",
   "execution_count": null,
   "metadata": {},
   "outputs": [],
   "source": []
  },
  {
   "cell_type": "code",
   "execution_count": null,
   "metadata": {},
   "outputs": [],
   "source": []
  },
  {
   "cell_type": "markdown",
   "metadata": {},
   "source": [
    "# 4. Manipulate matrices\n",
    "\n",
    "We define here under a matrix containing a \"fake\" dataset. It consists of 140 samples for which we have \"measured\" two features x and y. It is generated from a random bivariate normal distribution with a chosen covariance matrix and mean values. "
   ]
  },
  {
   "cell_type": "code",
   "execution_count": 18,
   "metadata": {},
   "outputs": [
    {
     "data": {
      "image/png": "[encoded data removed]",
      "text/plain": [
       "<Figure size 432x288 with 1 Axes>"
      ]
     },
     "metadata": {
      "needs_background": "light"
     },
     "output_type": "display_data"
    }
   ],
   "source": [
    "#https://docs.scipy.org/doc/numpy-1.13.0/reference/generated/numpy.random.multivariate_normal.html\n",
    "\n",
    "#we choose a covariance matrix, it must be symmetric and positive semi-definite\n",
    "cov = np.array([[6, 2],[2,1]])\n",
    "#we choose mean values for x and y\n",
    "mean = [10,3]\n",
    "#we choose the number of samples \n",
    "numb_points = 140\n",
    "#we generate our data points \n",
    "matrixX  = np.random.multivariate_normal(mean, cov, numb_points)\n",
    "#let's plot those points:\n",
    "plt.plot(matrixX[:,0],matrixX[:,1],'x')\n",
    "plt.title('Set of points drown from a bivariate normal distribution')\n",
    "plt.axis('equal')\n",
    "plt.xlabel('x')\n",
    "plt.ylabel('y')\n",
    "plt.savefig('bivariate_dataset.pdf')\n",
    "plt.show()"
   ]
  },
  {
   "cell_type": "markdown",
   "metadata": {},
   "source": [
    "You can think of each cross representing one cell, and x and y has being the expression levels of two genes. \n",
    "\n",
    "The matrix containing this dataset, \"matrixX\", has the following shape:"
   ]
  },
  {
   "cell_type": "code",
   "execution_count": 20,
   "metadata": {},
   "outputs": [
    {
     "data": {
      "text/plain": [
       "0.3333333333333333"
      ]
     },
     "execution_count": 20,
     "metadata": {},
     "output_type": "execute_result"
    }
   ],
   "source": [
    "1/3"
   ]
  },
  {
   "cell_type": "markdown",
   "metadata": {},
   "source": [
    "## Coordinate change \n",
    "\n",
    "If we have a vector $v = (1,2)$, implicitely it means we have chosen a basis $(e_1, e_2)$ and in this basis the components of the vector are (1,2): $v = e_1 + 2 e_2$. \n",
    "\n",
    "<img src=\"change_basis1.jpg\" width=\"800\" height=\"400\">\n",
    "\n",
    "\n",
    "We could have used another basis. How to express the vector $v$ in this other basis? \n",
    "\n",
    "<img src=\"change_basis2.jpg\" width=\"800\" height=\"400\">\n",
    "\n",
    "We will need to use the very useful fact that real symmetric matrices can be diagnonalized by orthogonal matrices: \n",
    "\n",
    "\n",
    "<img src=\"diag.jpg\" width=\"800\" height=\"400\">\n"
   ]
  },
  {
   "cell_type": "markdown",
   "metadata": {},
   "source": [
    "1. Our dataset can be viewed as an ensemble of 140 vectors given by couples (x,y). Define the coordinate change matrix to use (y,x) instead of (x,y). To encode a matrix, use np.array([[a11,a12],[a21,a22]]). The inverse of a matrix can be computed by using np.linalg.inv(). \n",
    "\n",
    "2. Apply the coordinate change to first sample. \n",
    "\n",
    "3. Apply the coordinate change to the full dataset matrixX at once. \n",
    "\n",
    "4. Come back to the original dataset and compute its covariance matrix. You can use the function np.cov. \n",
    "\n",
    "5. Compute its eigenvalues and eigenvectors (use np.linalg.eig) - do check your result\n",
    "3. Diagonalise this matrix (check that the elements on the diagonal are the eigenvalues)\n",
    "\n",
    "The function 'eigvals, eigvects = np.linalg.eig(mymatrix)' returns the eigenvalues \"eigvals\" and a matrix  \"eigvects\" containing the eigenvectors in columns, which corresponds to the coordinate change matrix directly. "
   ]
  },
  {
   "cell_type": "code",
   "execution_count": null,
   "metadata": {},
   "outputs": [],
   "source": []
  }
 ],
 "metadata": {
  "kernelspec": {
   "display_name": "Python 3",
   "language": "python",
   "name": "python3"
  },
  "language_info": {
   "codemirror_mode": {
    "name": "ipython",
    "version": 3
   },
   "file_extension": ".py",
   "mimetype": "text/x-python",
   "name": "python",
   "nbconvert_exporter": "python",
   "pygments_lexer": "ipython3",
   "version": "3.7.5"
  },
  "toc": {
   "base_numbering": 1,
   "nav_menu": {},
   "number_sections": true,
   "sideBar": true,
   "skip_h1_title": false,
   "title_cell": "Table of Contents",
   "title_sidebar": "Contents",
   "toc_cell": false,
   "toc_position": {},
   "toc_section_display": true,
   "toc_window_display": false
  }
 },
 "nbformat": 4,
 "nbformat_minor": 4
}
